{
 "cells": [
  {
   "cell_type": "code",
   "execution_count": 2,
   "source": [
    "# Scraping Fator Solar Regiôes do Ceará\r\n",
    "# 12/08/2021 - Versão 1.0\r\n"
   ],
   "outputs": [],
   "metadata": {}
  },
  {
   "cell_type": "code",
   "execution_count": 5,
   "source": [
    "# Analise inicial do site\r\n",
    "from urllib.request import urlopen\r\n",
    "html = urlopen('https://globalsolaratlas.info/map')\r\n",
    "print(html.read())"
   ],
   "outputs": [
    {
     "output_type": "stream",
     "name": "stdout",
     "text": [
      "b'<!DOCTYPE html>\\n<html lang=\"en\">\\n  <head>\\n    <meta charset=\"utf-8\">\\n    <title>Global Solar Atlas</title>\\n    <base href=\"/\">\\n\\n    <meta name=\"x-api-base\" content=\"https://api.globalsolaratlas.info/\">\\n\\n    <meta name=\"description\" content=\"The Global Solar Atlas provides a summary of solar power potential and solar resources globally. It is provided by the World Bank Group as a free service to governments, developers and the general public, and allows users to quickly obtain data and carry out a simple electricity output calculation for any location covered by the solar resource database.\">\\n    <meta name=\"copyright\" content=\"The World Bank Group\">\\n    <meta name=\"author\" content=\"Solargis\">\\n\\n    <!-- disable caching index.html -->\\n    <meta http-equiv=\"Cache-control\" content=\"no-cache, no-store, max-age=0, must-revalidate\">\\n    <meta http-equiv=\"Pragma\" content=\"no-cache\">\\n    <meta http-equiv=\"expires\" content=\"0\">\\n\\n    <meta name=\"viewport\" content=\"width=device-width, initial-scale=1\">\\n\\n    <style type=\"text/css\">@font-face{font-family:\\'Material Icons\\';font-style:normal;font-weight:400;src:url(https://fonts.gstatic.com/s/materialicons/v92/flUhRq6tzZclQEJ-Vdg-IuiaDsNa.woff) format(\\'woff\\');}.material-icons{font-family:\\'Material Icons\\';font-weight:normal;font-style:normal;font-size:24px;line-height:1;letter-spacing:normal;text-transform:none;display:inline-block;white-space:nowrap;word-wrap:normal;direction:ltr;font-feature-settings:\\'liga\\';}@font-face{font-family:\\'Material Icons\\';font-style:normal;font-weight:400;src:url(https://fonts.gstatic.com/s/materialicons/v92/flUhRq6tzZclQEJ-Vdg-IuiaDsNcIhQ8tQ.woff2) format(\\'woff2\\');}.material-icons{font-family:\\'Material Icons\\';font-weight:normal;font-style:normal;font-size:24px;line-height:1;letter-spacing:normal;text-transform:none;display:inline-block;white-space:nowrap;word-wrap:normal;direction:ltr;-webkit-font-feature-settings:\\'liga\\';-webkit-font-smoothing:antialiased;}</style>\\n\\n    <style type=\"text/css\">@font-face{font-family:\\'Roboto\\';font-style:normal;font-weight:400;src:url(https://fonts.gstatic.com/s/roboto/v27/KFOmCnqEu92Fr1Mu7GxM.woff) format(\\'woff\\');}@font-face{font-family:\\'Roboto\\';font-style:normal;font-weight:500;src:url(https://fonts.gstatic.com/s/roboto/v27/KFOlCnqEu92Fr1MmEU9fChc-.woff) format(\\'woff\\');}@font-face{font-family:\\'Roboto\\';font-style:normal;font-weight:700;src:url(https://fonts.gstatic.com/s/roboto/v27/KFOlCnqEu92Fr1MmWUlfChc-.woff) format(\\'woff\\');}@font-face{font-family:\\'Roboto\\';font-style:normal;font-weight:400;src:url(https://fonts.gstatic.com/s/roboto/v27/KFOmCnqEu92Fr1Mu72xKKTU1Kvnz.woff2) format(\\'woff2\\');unicode-range:U+0460-052F, U+1C80-1C88, U+20B4, U+2DE0-2DFF, U+A640-A69F, U+FE2E-FE2F;}@font-face{font-family:\\'Roboto\\';font-style:normal;font-weight:400;src:url(https://fonts.gstatic.com/s/roboto/v27/KFOmCnqEu92Fr1Mu5mxKKTU1Kvnz.woff2) format(\\'woff2\\');unicode-range:U+0400-045F, U+0490-0491, U+04B0-04B1, U+2116;}@font-face{font-family:\\'Roboto\\';font-style:normal;font-weight:400;src:url(https://fonts.gstatic.com/s/roboto/v27/KFOmCnqEu92Fr1Mu7mxKKTU1Kvnz.woff2) format(\\'woff2\\');unicode-range:U+1F00-1FFF;}@font-face{font-family:\\'Roboto\\';font-style:normal;font-weight:400;src:url(https://fonts.gstatic.com/s/roboto/v27/KFOmCnqEu92Fr1Mu4WxKKTU1Kvnz.woff2) format(\\'woff2\\');unicode-range:U+0370-03FF;}@font-face{font-family:\\'Roboto\\';font-style:normal;font-weight:400;src:url(https://fonts.gstatic.com/s/roboto/v27/KFOmCnqEu92Fr1Mu7WxKKTU1Kvnz.woff2) format(\\'woff2\\');unicode-range:U+0102-0103, U+0110-0111, U+0128-0129, U+0168-0169, U+01A0-01A1, U+01AF-01B0, U+1EA0-1EF9, U+20AB;}@font-face{font-family:\\'Roboto\\';font-style:normal;font-weight:400;src:url(https://fonts.gstatic.com/s/roboto/v27/KFOmCnqEu92Fr1Mu7GxKKTU1Kvnz.woff2) format(\\'woff2\\');unicode-range:U+0100-024F, U+0259, U+1E00-1EFF, U+2020, U+20A0-20AB, U+20AD-20CF, U+2113, U+2C60-2C7F, U+A720-A7FF;}@font-face{font-family:\\'Roboto\\';font-style:normal;font-weight:400;src:url(https://fonts.gstatic.com/s/roboto/v27/KFOmCnqEu92Fr1Mu4mxKKTU1Kg.woff2) format(\\'woff2\\');unicode-range:U+0000-00FF, U+0131, U+0152-0153, U+02BB-02BC, U+02C6, U+02DA, U+02DC, U+2000-206F, U+2074, U+20AC, U+2122, U+2191, U+2193, U+2212, U+2215, U+FEFF, U+FFFD;}@font-face{font-family:\\'Roboto\\';font-style:normal;font-weight:500;src:url(https://fonts.gstatic.com/s/roboto/v27/KFOlCnqEu92Fr1MmEU9fCRc4AMP6lbBP.woff2) format(\\'woff2\\');unicode-range:U+0460-052F, U+1C80-1C88, U+20B4, U+2DE0-2DFF, U+A640-A69F, U+FE2E-FE2F;}@font-face{font-family:\\'Roboto\\';font-style:normal;font-weight:500;src:url(https://fonts.gstatic.com/s/roboto/v27/KFOlCnqEu92Fr1MmEU9fABc4AMP6lbBP.woff2) format(\\'woff2\\');unicode-range:U+0400-045F, U+0490-0491, U+04B0-04B1, U+2116;}@font-face{font-family:\\'Roboto\\';font-style:normal;font-weight:500;src:url(https://fonts.gstatic.com/s/roboto/v27/KFOlCnqEu92Fr1MmEU9fCBc4AMP6lbBP.woff2) format(\\'woff2\\');unicode-range:U+1F00-1FFF;}@font-face{font-family:\\'Roboto\\';font-style:normal;font-weight:500;src:url(https://fonts.gstatic.com/s/roboto/v27/KFOlCnqEu92Fr1MmEU9fBxc4AMP6lbBP.woff2) format(\\'woff2\\');unicode-range:U+0370-03FF;}@font-face{font-family:\\'Roboto\\';font-style:normal;font-weight:500;src:url(https://fonts.gstatic.com/s/roboto/v27/KFOlCnqEu92Fr1MmEU9fCxc4AMP6lbBP.woff2) format(\\'woff2\\');unicode-range:U+0102-0103, U+0110-0111, U+0128-0129, U+0168-0169, U+01A0-01A1, U+01AF-01B0, U+1EA0-1EF9, U+20AB;}@font-face{font-family:\\'Roboto\\';font-style:normal;font-weight:500;src:url(https://fonts.gstatic.com/s/roboto/v27/KFOlCnqEu92Fr1MmEU9fChc4AMP6lbBP.woff2) format(\\'woff2\\');unicode-range:U+0100-024F, U+0259, U+1E00-1EFF, U+2020, U+20A0-20AB, U+20AD-20CF, U+2113, U+2C60-2C7F, U+A720-A7FF;}@font-face{font-family:\\'Roboto\\';font-style:normal;font-weight:500;src:url(https://fonts.gstatic.com/s/roboto/v27/KFOlCnqEu92Fr1MmEU9fBBc4AMP6lQ.woff2) format(\\'woff2\\');unicode-range:U+0000-00FF, U+0131, U+0152-0153, U+02BB-02BC, U+02C6, U+02DA, U+02DC, U+2000-206F, U+2074, U+20AC, U+2122, U+2191, U+2193, U+2212, U+2215, U+FEFF, U+FFFD;}@font-face{font-family:\\'Roboto\\';font-style:normal;font-weight:700;src:url(https://fonts.gstatic.com/s/roboto/v27/KFOlCnqEu92Fr1MmWUlfCRc4AMP6lbBP.woff2) format(\\'woff2\\');unicode-range:U+0460-052F, U+1C80-1C88, U+20B4, U+2DE0-2DFF, U+A640-A69F, U+FE2E-FE2F;}@font-face{font-family:\\'Roboto\\';font-style:normal;font-weight:700;src:url(https://fonts.gstatic.com/s/roboto/v27/KFOlCnqEu92Fr1MmWUlfABc4AMP6lbBP.woff2) format(\\'woff2\\');unicode-range:U+0400-045F, U+0490-0491, U+04B0-04B1, U+2116;}@font-face{font-family:\\'Roboto\\';font-style:normal;font-weight:700;src:url(https://fonts.gstatic.com/s/roboto/v27/KFOlCnqEu92Fr1MmWUlfCBc4AMP6lbBP.woff2) format(\\'woff2\\');unicode-range:U+1F00-1FFF;}@font-face{font-family:\\'Roboto\\';font-style:normal;font-weight:700;src:url(https://fonts.gstatic.com/s/roboto/v27/KFOlCnqEu92Fr1MmWUlfBxc4AMP6lbBP.woff2) format(\\'woff2\\');unicode-range:U+0370-03FF;}@font-face{font-family:\\'Roboto\\';font-style:normal;font-weight:700;src:url(https://fonts.gstatic.com/s/roboto/v27/KFOlCnqEu92Fr1MmWUlfCxc4AMP6lbBP.woff2) format(\\'woff2\\');unicode-range:U+0102-0103, U+0110-0111, U+0128-0129, U+0168-0169, U+01A0-01A1, U+01AF-01B0, U+1EA0-1EF9, U+20AB;}@font-face{font-family:\\'Roboto\\';font-style:normal;font-weight:700;src:url(https://fonts.gstatic.com/s/roboto/v27/KFOlCnqEu92Fr1MmWUlfChc4AMP6lbBP.woff2) format(\\'woff2\\');unicode-range:U+0100-024F, U+0259, U+1E00-1EFF, U+2020, U+20A0-20AB, U+20AD-20CF, U+2113, U+2C60-2C7F, U+A720-A7FF;}@font-face{font-family:\\'Roboto\\';font-style:normal;font-weight:700;src:url(https://fonts.gstatic.com/s/roboto/v27/KFOlCnqEu92Fr1MmWUlfBBc4AMP6lQ.woff2) format(\\'woff2\\');unicode-range:U+0000-00FF, U+0131, U+0152-0153, U+02BB-02BC, U+02C6, U+02DA, U+02DC, U+2000-206F, U+2074, U+20AC, U+2122, U+2191, U+2193, U+2212, U+2215, U+FEFF, U+FFFD;}</style>\\n\\n    <link rel=\"icon\" type=\"image/x-icon\" href=\"favicon.ico\">\\n  <link rel=\"stylesheet\" href=\"styles.864666cfaac52f641ee4.css\"></head>\\n  <body>\\n    <gsa-app>\\n      <div class=\"app-loading-spinner\">\\n        <svg class=\"spinner\" width=\"65px\" height=\"65px\" viewBox=\"0 0 66 66\" xmlns=\"http://www.w3.org/2000/svg\">\\n          <circle class=\"path\" fill=\"none\" stroke-width=\"6\" stroke-linecap=\"round\" cx=\"33\" cy=\"33\" r=\"30\">\\n          </circle>\\n        </svg>\\n      </div>\\n    </gsa-app>\\n  <script src=\"runtime-es2015.035f7bc9f96fd9a834a1.js\" type=\"module\"></script><script src=\"runtime-es5.035f7bc9f96fd9a834a1.js\" nomodule=\"\" defer=\"\"></script><script src=\"polyfills-es5.8d33fa0b4575800bbf16.js\" nomodule=\"\" defer=\"\"></script><script src=\"polyfills-es2015.3dc9194c8eb5c9c12649.js\" type=\"module\"></script><script src=\"main-es2015.0125d5eb1a788b37aa15.js\" type=\"module\"></script><script src=\"main-es5.0125d5eb1a788b37aa15.js\" nomodule=\"\" defer=\"\"></script></body>\\n</html>\\n'\n"
     ]
    }
   ],
   "metadata": {}
  }
 ],
 "metadata": {
  "orig_nbformat": 4,
  "language_info": {
   "name": "python",
   "version": "3.9.6",
   "mimetype": "text/x-python",
   "codemirror_mode": {
    "name": "ipython",
    "version": 3
   },
   "pygments_lexer": "ipython3",
   "nbconvert_exporter": "python",
   "file_extension": ".py"
  },
  "kernelspec": {
   "name": "python3",
   "display_name": "Python 3.9.6 64-bit"
  },
  "interpreter": {
   "hash": "d37f61ffe7d685a1ac48b1d7774f291cdee1834edd502e25b8d0651861a5e209"
  }
 },
 "nbformat": 4,
 "nbformat_minor": 2
}