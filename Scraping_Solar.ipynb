{
 "cells": [
  {
   "cell_type": "code",
   "execution_count": 2,
   "source": [
    "# Scraping Fator Solar Regiôes do Ceará\r\n",
    "# 12/08/2021 - Versão 1.0\r\n"
   ],
   "outputs": [],
   "metadata": {}
  },
  {
   "cell_type": "code",
   "execution_count": 4,
   "source": [
    "# Analise inicial do site\r\n",
    "from urllib.request import urlopen\r\n",
    "from bs4 import BeautifulSoup\r\n",
    "html = urlopen('https://globalsolaratlas.info/map?c=11.523088,8.4375,3&s=24.982727,17.617226&m=site')\r\n",
    "bs = BeautifulSoup(html.read(),'html5lib')\r\n",
    "print(bs.body)"
   ],
   "outputs": [
    {
     "output_type": "stream",
     "name": "stdout",
     "text": [
      "<body>\n",
      "    <gsa-app>\n",
      "      <div class=\"app-loading-spinner\">\n",
      "        <svg class=\"spinner\" height=\"65px\" viewBox=\"0 0 66 66\" width=\"65px\" xmlns=\"http://www.w3.org/2000/svg\">\n",
      "          <circle class=\"path\" cx=\"33\" cy=\"33\" fill=\"none\" r=\"30\" stroke-linecap=\"round\" stroke-width=\"6\">\n",
      "          </circle>\n",
      "        </svg>\n",
      "      </div>\n",
      "    </gsa-app>\n",
      "  <script src=\"runtime-es2015.035f7bc9f96fd9a834a1.js\" type=\"module\"></script><script defer=\"\" nomodule=\"\" src=\"runtime-es5.035f7bc9f96fd9a834a1.js\"></script><script defer=\"\" nomodule=\"\" src=\"polyfills-es5.8d33fa0b4575800bbf16.js\"></script><script src=\"polyfills-es2015.3dc9194c8eb5c9c12649.js\" type=\"module\"></script><script src=\"main-es2015.0125d5eb1a788b37aa15.js\" type=\"module\"></script><script defer=\"\" nomodule=\"\" src=\"main-es5.0125d5eb1a788b37aa15.js\"></script>\n",
      "\n",
      "</body>\n"
     ]
    }
   ],
   "metadata": {}
  }
 ],
 "metadata": {
  "orig_nbformat": 4,
  "language_info": {
   "name": "python",
   "version": "3.9.6",
   "mimetype": "text/x-python",
   "codemirror_mode": {
    "name": "ipython",
    "version": 3
   },
   "pygments_lexer": "ipython3",
   "nbconvert_exporter": "python",
   "file_extension": ".py"
  },
  "kernelspec": {
   "name": "python3",
   "display_name": "Python 3.9.6 64-bit"
  },
  "interpreter": {
   "hash": "d37f61ffe7d685a1ac48b1d7774f291cdee1834edd502e25b8d0651861a5e209"
  }
 },
 "nbformat": 4,
 "nbformat_minor": 2
}