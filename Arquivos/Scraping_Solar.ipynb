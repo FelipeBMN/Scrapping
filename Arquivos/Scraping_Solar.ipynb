{
 "cells": [
  {
   "cell_type": "markdown",
   "metadata": {},
   "source": [
    "# Scraping Fator Solar Regiôes do Ceará\n",
    "## 12/08/2021 - Versão 1.0"
   ]
  },
  {
   "cell_type": "markdown",
   "metadata": {},
   "source": [
    "## Importando lista de municipios"
   ]
  },
  {
   "cell_type": "code",
   "execution_count": 12,
   "metadata": {},
   "outputs": [],
   "source": [
    "# Critando lista de municipios\n",
    "import pandas as pd\n",
    "mun = pd.read_excel('municipios.xlsx')\n",
    "municipios = []\n",
    "fatores = []\n",
    "for muni in mun.iloc[:,0]:\n",
    "    municipios.append(muni)"
   ]
  },
  {
   "cell_type": "markdown",
   "metadata": {},
   "source": [
    "## Com Webdriver"
   ]
  },
  {
   "cell_type": "code",
   "execution_count": 8,
   "metadata": {},
   "outputs": [
    {
     "name": "stderr",
     "output_type": "stream",
     "text": [
      "/tmp/ipykernel_8411/1550558970.py:16: DeprecationWarning: executable_path has been deprecated, please pass in a Service object\n",
      "  nav = webdriver.Chrome(ChromeDriverManager().install(),options=options)\n"
     ]
    }
   ],
   "source": [
    "from selenium import webdriver\n",
    "from webdriver_manager.chrome import ChromeDriverManager\n",
    "from selenium.webdriver.chrome.service import Service\n",
    "from selenium.webdriver.common.by import By\n",
    "from selenium.webdriver.support import expected_conditions as EC\n",
    "from time import sleep\n",
    "from unidecode import unidecode\n",
    "import time\n",
    "import os\n",
    "\n",
    "# Iniciando Options\n",
    "chrome_options = Options()\n",
    "chrome_options.add_argument(\"--headless\")\n",
    "options = chrome_options\n",
    "# Iniciando o chrome\n",
    "nav = webdriver.Chrome(ChromeDriverManager().install(),options=options)"
   ]
  },
  {
   "cell_type": "code",
   "execution_count": 10,
   "metadata": {},
   "outputs": [],
   "source": [
    "\n",
    "def pegar_fator_solar(local):\n",
    "    print(\"Coletando fator solar\")\n",
    "    # Configurando navegador\n",
    "    options = webdriver.ChromeOptions()\n",
    "    options.add_argument(\"--headless\")\n",
    "    service = Service(ChromeDriverManager().install())\n",
    "\n",
    "    # Inicializando navegador\n",
    "    navegador = webdriver.Chrome(options=options, service=service)\n",
    "\n",
    "    # Navegando até a pagina base\n",
    "    navegador.get(\"https://globalsolaratlas.info/map\")\n",
    "    xpath_pequisar_local = '//*[@id=\"mat-input-0\"]'\n",
    "    xpath_fator_solar = '/html/body/gsa-app/div/div/main/ng-component/section/gsa-map-sidebar/aside/div/gsa-map-sidebar-site/gsa-section[1]/section/div[3]/gsa-card/div/gsa-site-data/mat-list/mat-list-item[1]/span/gsa-site-data-item/div/div[4]/sg-unit-value/sg-unit-value-inner'\n",
    "    time.sleep(3)\n",
    "    xpath_resultados = '//*[@id=\"mat-option-0\"]'\n",
    "    pesquisa_atlas = navegador.find_element(\n",
    "        By.XPATH, xpath_pequisar_local)\n",
    "    pesquisa_atlas.send_keys(local)\n",
    "    time.sleep(3)\n",
    "\n",
    "    # Pegando nome do local que foi encontrado --------------------------------------------------\n",
    "    local_pesquisado = navegador.find_element(\n",
    "        By.XPATH, '//*[@id=\"mat-option-0\"]/span/div/h5')\n",
    "    local_encontrado_text = local_pesquisado.text\n",
    "    if not (unidecode(local_encontrado_text.lower()) in unidecode(local.lower())):\n",
    "        os.system('cls')\n",
    "        local = input(\"Digite um nova localização para o cliente:\")\n",
    "        return pegar_fator_solar(local)\n",
    "    # -------------------------------------------------------------------------------------------\n",
    "\n",
    "    navegador.find_element(By.XPATH, xpath_resultados).click()\n",
    "    time.sleep(3)\n",
    "    fator_solar = navegador.find_element(\n",
    "        By.XPATH, xpath_fator_solar).get_attribute(\"textContent\")\n",
    "    os.system('cls')\n",
    "    print(f\"Fator solar encontrado: {fator_solar}\")\n",
    "   \n",
    "\n",
    "    fator_solar = float(str(fator_solar))\n",
    "    fator_solar_corrigido = fator_solar/12*0.9\n",
    "    return fator_solar, fator_solar_corrigido\n",
    "\n"
   ]
  },
  {
   "cell_type": "code",
   "execution_count": 14,
   "metadata": {},
   "outputs": [
    {
     "name": "stderr",
     "output_type": "stream",
     "text": [
      "sh: 1: cls: not found\n"
     ]
    },
    {
     "name": "stdout",
     "output_type": "stream",
     "text": [
      "Coletando fator solar\n"
     ]
    },
    {
     "name": "stderr",
     "output_type": "stream",
     "text": [
      "sh: 1: cls: not found\n"
     ]
    },
    {
     "name": "stdout",
     "output_type": "stream",
     "text": [
      "Fator solar encontrado: 1530.3\n",
      "Acarape ,  114.7725\n",
      "Coletando fator solar\n"
     ]
    },
    {
     "name": "stderr",
     "output_type": "stream",
     "text": [
      "sh: 1: cls: not found\n",
      "sh: 1: cls: not found\n",
      "sh: 1: cls: not found\n"
     ]
    },
    {
     "name": "stdout",
     "output_type": "stream",
     "text": [
      "Fator solar encontrado: 1685.4\n",
      "Acaraú ,  126.40500000000002\n",
      "Coletando fator solar\n"
     ]
    },
    {
     "name": "stderr",
     "output_type": "stream",
     "text": [
      "sh: 1: cls: not found\n",
      "sh: 1: cls: not found\n"
     ]
    },
    {
     "name": "stdout",
     "output_type": "stream",
     "text": [
      "Fator solar encontrado: 1670.9\n",
      "Acopiara ,  125.31750000000001\n",
      "Coletando fator solar\n"
     ]
    },
    {
     "name": "stderr",
     "output_type": "stream",
     "text": [
      "sh: 1: cls: not found\n",
      "sh: 1: cls: not found\n"
     ]
    },
    {
     "name": "stdout",
     "output_type": "stream",
     "text": [
      "Fator solar encontrado: 1683.6\n",
      "Aiuaba ,  126.26999999999998\n",
      "Coletando fator solar\n"
     ]
    },
    {
     "name": "stderr",
     "output_type": "stream",
     "text": [
      "sh: 1: cls: not found\n"
     ]
    },
    {
     "name": "stdout",
     "output_type": "stream",
     "text": [
      "Except !\n"
     ]
    }
   ],
   "source": [
    "# Pegando Fator Solar\n",
    "for municipio in municipios:\n",
    "    try:\n",
    "        [fator_solar, fator_solar_corrigido] = pegar_fator_solar(municipio)\n",
    "        print(municipio,\", \",fator_solar_corrigido)\n",
    "        \n",
    "        fatores.append(fator_solar_corrigido)\n",
    "    except:\n",
    "        print(municipio,\": Erro\")\n",
    "        fatores.append(\"Erro\")\n",
    "    "
   ]
  },
  {
   "cell_type": "code",
   "execution_count": null,
   "metadata": {},
   "outputs": [],
   "source": [
    "nav.quit()"
   ]
  },
  {
   "cell_type": "markdown",
   "metadata": {},
   "source": [
    "testar: \n",
    "\n",
    "http://www.travelaholics.com.br/ferramentas/qual-é-a-minha-latitude-e-longitude/"
   ]
  },
  {
   "cell_type": "code",
   "execution_count": 11,
   "metadata": {},
   "outputs": [
    {
     "data": {
      "text/plain": [
       "['Erro',\n",
       " 'Erro',\n",
       " 'Erro',\n",
       " 'Erro',\n",
       " 'Erro',\n",
       " 'Erro',\n",
       " 'Erro',\n",
       " 'Erro',\n",
       " 'Erro',\n",
       " 'Erro',\n",
       " 'Erro',\n",
       " 'Erro',\n",
       " 'Erro',\n",
       " 'Erro',\n",
       " 'Erro',\n",
       " 'Erro',\n",
       " 'Erro',\n",
       " 'Erro',\n",
       " 'Erro',\n",
       " 'Erro',\n",
       " 'Erro',\n",
       " 'Erro',\n",
       " 'Erro',\n",
       " 'Erro',\n",
       " 'Erro',\n",
       " 'Erro',\n",
       " 'Erro',\n",
       " 'Erro',\n",
       " 'Erro',\n",
       " 'Erro',\n",
       " 'Erro',\n",
       " 'Erro',\n",
       " 'Erro',\n",
       " 'Erro',\n",
       " 'Erro',\n",
       " 'Erro',\n",
       " 'Erro',\n",
       " 'Erro',\n",
       " 'Erro',\n",
       " 'Erro',\n",
       " 'Erro',\n",
       " 'Erro',\n",
       " 'Erro',\n",
       " 'Erro',\n",
       " 'Erro',\n",
       " 'Erro',\n",
       " 'Erro',\n",
       " 'Erro',\n",
       " 'Erro',\n",
       " 'Erro',\n",
       " 'Erro',\n",
       " 'Erro',\n",
       " 'Erro',\n",
       " 'Erro',\n",
       " 'Erro',\n",
       " 'Erro',\n",
       " 'Erro',\n",
       " 'Erro',\n",
       " 'Erro',\n",
       " 'Erro',\n",
       " 'Erro',\n",
       " 'Erro',\n",
       " 'Erro',\n",
       " 'Erro',\n",
       " 'Erro',\n",
       " 'Erro',\n",
       " 'Erro',\n",
       " 'Erro',\n",
       " 'Erro',\n",
       " 'Erro',\n",
       " 'Erro',\n",
       " 'Erro',\n",
       " 'Erro',\n",
       " 'Erro',\n",
       " 'Erro',\n",
       " 'Erro',\n",
       " 'Erro',\n",
       " 'Erro',\n",
       " 'Erro',\n",
       " 'Erro',\n",
       " 'Erro',\n",
       " 'Erro',\n",
       " 'Erro',\n",
       " 'Erro',\n",
       " 'Erro',\n",
       " 'Erro',\n",
       " 'Erro',\n",
       " 'Erro',\n",
       " 'Erro',\n",
       " 'Erro',\n",
       " 'Erro',\n",
       " 'Erro',\n",
       " 'Erro',\n",
       " 'Erro',\n",
       " 'Erro',\n",
       " 'Erro',\n",
       " 'Erro',\n",
       " 'Erro',\n",
       " 'Erro',\n",
       " 'Erro',\n",
       " 'Erro',\n",
       " 'Erro',\n",
       " 'Erro',\n",
       " 'Erro',\n",
       " 'Erro',\n",
       " 'Erro',\n",
       " 'Erro',\n",
       " 'Erro',\n",
       " 'Erro',\n",
       " 'Erro',\n",
       " 'Erro',\n",
       " 'Erro',\n",
       " 'Erro',\n",
       " 'Erro',\n",
       " 'Erro',\n",
       " 'Erro',\n",
       " 'Erro',\n",
       " 'Erro',\n",
       " 'Erro',\n",
       " 'Erro',\n",
       " 'Erro',\n",
       " 'Erro',\n",
       " 'Erro',\n",
       " 'Erro',\n",
       " 'Erro',\n",
       " 'Erro',\n",
       " 'Erro',\n",
       " 'Erro',\n",
       " 'Erro',\n",
       " 'Erro',\n",
       " 'Erro',\n",
       " 'Erro',\n",
       " 'Erro',\n",
       " 'Erro',\n",
       " 'Erro',\n",
       " 'Erro',\n",
       " 'Erro',\n",
       " 'Erro',\n",
       " 'Erro',\n",
       " 'Erro',\n",
       " 'Erro',\n",
       " 'Erro',\n",
       " 'Erro',\n",
       " 'Erro',\n",
       " 'Erro',\n",
       " 'Erro',\n",
       " 'Erro',\n",
       " 'Erro',\n",
       " 'Erro',\n",
       " 'Erro',\n",
       " 'Erro',\n",
       " 'Erro',\n",
       " 'Erro',\n",
       " 'Erro',\n",
       " 'Erro',\n",
       " 'Erro',\n",
       " 'Erro',\n",
       " 'Erro',\n",
       " 'Erro',\n",
       " 'Erro',\n",
       " 'Erro',\n",
       " 'Erro',\n",
       " 'Erro',\n",
       " 'Erro',\n",
       " 'Erro',\n",
       " 'Erro',\n",
       " 'Erro',\n",
       " 'Erro',\n",
       " 'Erro',\n",
       " 'Erro',\n",
       " 'Erro',\n",
       " 'Erro',\n",
       " 'Erro',\n",
       " 'Erro',\n",
       " 'Erro',\n",
       " 'Erro',\n",
       " 'Erro',\n",
       " 'Erro',\n",
       " 'Erro',\n",
       " 'Erro',\n",
       " 'Erro',\n",
       " 'Erro',\n",
       " 'Erro']"
      ]
     },
     "execution_count": 11,
     "metadata": {},
     "output_type": "execute_result"
    }
   ],
   "source": [
    "fatores"
   ]
  },
  {
   "cell_type": "code",
   "execution_count": 10,
   "metadata": {},
   "outputs": [],
   "source": [
    "new_mun=mun.assign(Fator_Solar=fatores)"
   ]
  },
  {
   "cell_type": "code",
   "execution_count": 12,
   "metadata": {},
   "outputs": [],
   "source": [
    "new_mun.to_excel(\"Municipios - Fatores Solar.xlsx\", index=False)"
   ]
  }
 ],
 "metadata": {
  "interpreter": {
   "hash": "a8c44fcadcf45ff48975a449daf4b874f1d3958a63c233eefcee0776c40e0a0a"
  },
  "kernelspec": {
   "display_name": "Python 3.9.6 64-bit ('py_Scraping': venv)",
   "name": "python3"
  },
  "language_info": {
   "codemirror_mode": {
    "name": "ipython",
    "version": 3
   },
   "file_extension": ".py",
   "mimetype": "text/x-python",
   "name": "python",
   "nbconvert_exporter": "python",
   "pygments_lexer": "ipython3",
   "version": "3.10.4"
  },
  "orig_nbformat": 4
 },
 "nbformat": 4,
 "nbformat_minor": 2
}
