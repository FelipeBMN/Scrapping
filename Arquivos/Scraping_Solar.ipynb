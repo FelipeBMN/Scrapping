{
 "cells": [
  {
   "cell_type": "markdown",
   "source": [
    "# Scraping Fator Solar Regiôes do Ceará\r\n",
    "## 12/08/2021 - Versão 1.0"
   ],
   "metadata": {}
  },
  {
   "cell_type": "markdown",
   "source": [
    "## Importando lista de municipios"
   ],
   "metadata": {}
  },
  {
   "cell_type": "code",
   "execution_count": 23,
   "source": [
    "# Critando lista de municipios\r\n",
    "import pandas as pd\r\n",
    "mun = pd.read_excel('municipios.xlsx')\r\n",
    "municipios = []\r\n",
    "fatores = []\r\n",
    "for muni in mun.iloc[:,0]:\r\n",
    "    municipios.append(muni)"
   ],
   "outputs": [],
   "metadata": {}
  },
  {
   "cell_type": "markdown",
   "source": [
    "## Com Webdriver"
   ],
   "metadata": {}
  },
  {
   "cell_type": "code",
   "execution_count": 24,
   "source": [
    "from selenium import webdriver \r\n",
    "from webdriver_manager.chrome import ChromeDriverManager\r\n",
    "from selenium.webdriver.common.keys import Keys\r\n",
    "from selenium.webdriver.chrome.options import Options\r\n",
    "from time import sleep\r\n",
    "\r\n",
    "# Iniciando Options\r\n",
    "chrome_options = Options()\r\n",
    "chrome_options.add_argument(\"--headless\")\r\n",
    "chrome_options.add_argument(\"--kiosk\")\r\n",
    "options = chrome_options\r\n",
    "# Iniciando o chrome\r\n",
    "nav = webdriver.Chrome(ChromeDriverManager().install(),options=options)"
   ],
   "outputs": [
    {
     "output_type": "stream",
     "name": "stderr",
     "text": [
      "\n",
      "\n",
      "====== WebDriver manager ======\n",
      "Current google-chrome version is 92.0.4515\n",
      "Get LATEST driver version for 92.0.4515\n",
      "Driver [C:\\Users\\BRUNO\\.wdm\\drivers\\chromedriver\\win32\\92.0.4515.107\\chromedriver.exe] found in cache\n"
     ]
    }
   ],
   "metadata": {}
  },
  {
   "cell_type": "code",
   "execution_count": 25,
   "source": [
    "def fator_solar(cidade: str):\r\n",
    "    nav.get(\"https://globalsolaratlas.info/map?c=11.523088,7.998047,3\")\r\n",
    "    sleep(2)    \r\n",
    "    nav.find_element_by_xpath('/html/body/gsa-app/div/gsa-header/header/gsa-site-search-input/mat-card/mat-form-field/div/div[1]/div/input').send_keys('ceará,'+cidade)\r\n",
    "    sleep(2)\r\n",
    "    nav.find_element_by_xpath('/html/body/gsa-app/div/gsa-header/header/gsa-site-search-input/mat-card/mat-form-field/div/div[1]/div/input').send_keys(Keys.ENTER)\r\n",
    "    sleep(2)\r\n",
    "    fator_solar = nav.find_element_by_xpath('/html/body/gsa-app/div/div/main/ng-component/section/gsa-map-sidebar/aside/div/gsa-map-sidebar-site/gsa-section[1]/section/div[3]/gsa-card/div/gsa-site-data/mat-list/mat-list-item[1]/div/gsa-site-data-item/div/div[4]/sg-unit-value/sg-unit-value-inner').text\r\n",
    "    return fator_solar\r\n"
   ],
   "outputs": [],
   "metadata": {}
  },
  {
   "cell_type": "code",
   "execution_count": 26,
   "source": [
    "\r\n",
    "def localizacao(nome: str):\r\n",
    "    nav.get(\"https://www.google.com.br/maps/preview\")\r\n",
    "    sleep(2)    \r\n",
    "    nav.find_element_by_xpath('/html/body/jsl/div[3]/div[9]/div[3]/div[1]/div[1]/div[1]/div[2]/form/div/div[3]/div/input[1]').send_keys('ceará,'+nome)\r\n",
    "    sleep(2)\r\n",
    "    nav.find_element_by_xpath('/html/body/jsl/div[3]/div[9]/div[3]/div[1]/div[1]/div[1]/div[2]/form/div/div[3]/div/input[1]').send_keys(Keys.ENTER)\r\n",
    "    sleep(2)\r\n",
    "    #fator_solar = nav.find_element_by_xpath('/html/body/gsa-app/div/div/main/ng-component/section/gsa-map-sidebar/aside/div/gsa-map-sidebar-site/gsa-section[1]/section/div[3]/gsa-card/div/gsa-site-data/mat-list/mat-list-item[1]/div/gsa-site-data-item/div/div[4]/sg-unit-value/sg-unit-value-inner').text\r\n",
    "    return localizacao\r\n"
   ],
   "outputs": [],
   "metadata": {}
  },
  {
   "cell_type": "code",
   "execution_count": 27,
   "source": [
    "# Pegando Fator Solar\r\n",
    "for municipio in municipios:\r\n",
    "    try:\r\n",
    "        fator = fator_solar(municipio)\r\n",
    "        print(municipio,\", \",fator)\r\n",
    "        \r\n",
    "        fatores.append(fator)\r\n",
    "    except:\r\n",
    "        print(municipio,\": Erro\")\r\n",
    "        fatores.append(\"Erro\")\r\n",
    "    "
   ],
   "outputs": [
    {
     "output_type": "stream",
     "name": "stdout",
     "text": [
      "Acarape : Erro\n",
      "Acaraú ,  1686.8\n",
      "Acopiara ,  1673.4\n",
      "Aiuaba ,  1686.5\n",
      "Alcântaras ,  1626.7\n",
      "Altaneira ,  1735.5\n",
      "Alto Santo : Erro\n",
      "Amontada ,  1619.9\n",
      "Antonina do Norte ,  1677.7\n",
      "Apuiarés ,  1579.0\n",
      "Aquiraz ,  1748.1\n",
      "Aracati : Erro\n",
      "Aracoiaba ,  1572.2\n",
      "Ararendá ,  1583.7\n",
      "Araripe ,  1679.8\n",
      "Aratuba ,  1603.7\n",
      "Arneiroz ,  1667.8\n",
      "Assaré ,  1704.4\n",
      "Aurora : Erro\n",
      "Baixio : Erro\n",
      "Banabuiú ,  1663.7\n",
      "Barbalha : Erro\n",
      "Barreira ,  1585.7\n",
      "Barro : Erro\n",
      "Barroquinha : Erro\n"
     ]
    }
   ],
   "metadata": {}
  },
  {
   "cell_type": "code",
   "execution_count": null,
   "source": [
    "nav.quit()"
   ],
   "outputs": [],
   "metadata": {}
  },
  {
   "cell_type": "markdown",
   "source": [
    "testar: \r\n",
    "\r\n",
    "http://www.travelaholics.com.br/ferramentas/qual-é-a-minha-latitude-e-longitude/"
   ],
   "metadata": {}
  },
  {
   "cell_type": "code",
   "execution_count": null,
   "source": [
    "fatores"
   ],
   "outputs": [],
   "metadata": {}
  },
  {
   "cell_type": "code",
   "execution_count": null,
   "source": [
    "new_mun=mun.assign(Fator_Solar=fatores)"
   ],
   "outputs": [],
   "metadata": {}
  },
  {
   "cell_type": "code",
   "execution_count": null,
   "source": [
    "new_mun.to_excel(\"Municipios - Fatores Solar.xlsx\", index=False)"
   ],
   "outputs": [],
   "metadata": {}
  }
 ],
 "metadata": {
  "orig_nbformat": 4,
  "language_info": {
   "name": "python",
   "version": "3.9.6",
   "mimetype": "text/x-python",
   "codemirror_mode": {
    "name": "ipython",
    "version": 3
   },
   "pygments_lexer": "ipython3",
   "nbconvert_exporter": "python",
   "file_extension": ".py"
  },
  "kernelspec": {
   "name": "python3",
   "display_name": "Python 3.9.6 64-bit ('py_Scraping': venv)"
  },
  "interpreter": {
   "hash": "a8c44fcadcf45ff48975a449daf4b874f1d3958a63c233eefcee0776c40e0a0a"
  }
 },
 "nbformat": 4,
 "nbformat_minor": 2
}