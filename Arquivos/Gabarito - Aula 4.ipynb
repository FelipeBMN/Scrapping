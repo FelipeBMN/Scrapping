{
 "cells": [
  {
   "cell_type": "markdown",
   "metadata": {},
   "source": [
    "# Automação Web e Busca de Informações com Python\n",
    "\n",
    "#### Desafio: \n",
    "\n",
    "Trabalhamos em uma importadora e o preço dos nossos produtos é vinculado a cotação de:\n",
    "- Dólar\n",
    "- Euro\n",
    "- Ouro\n",
    "\n",
    "Precisamos pegar na internet, de forma automática, a cotação desses 3 itens e saber quanto devemos cobrar pelos nossos produtos, considerando uma margem de contribuição que temos na nossa base de dados.\n",
    "\n",
    "Base de Dados: https://drive.google.com/drive/folders/1o2lpxoi9heyQV1hIlsHXWSfDkBPtze-V?usp=sharing\n",
    "\n",
    "Para isso, vamos criar uma automação web:\n",
    "\n",
    "- Usaremos o selenium\n",
    "- Importante: baixar o webdriver"
   ]
  },
  {
   "cell_type": "code",
   "execution_count": 7,
   "metadata": {},
   "outputs": [
    {
     "output_type": "stream",
     "name": "stderr",
     "text": [
      "\n",
      "\n",
      "====== WebDriver manager ======\n",
      "Current google-chrome version is 91.0.4472\n",
      "Get LATEST driver version for 91.0.4472\n",
      "Driver [C:\\Users\\felip\\.wdm\\drivers\\chromedriver\\win32\\91.0.4472.101\\chromedriver.exe] found in cache\n"
     ]
    }
   ],
   "source": [
    "\n",
    "from selenium import webdriver\n",
    "from webdriver_manager.chrome import ChromeDriverManager\n",
    "from selenium.webdriver.common.keys import Keys\n",
    "\n",
    "# para rodar o chrome em 2º plano\n",
    "# from selenium.webdriver.chrome.options import Options\n",
    "# chrome_options = Options()\n",
    "# chrome_options.headless = True # also works\n",
    "# nav = webdriver.Chrome(options=chrome_options)\n",
    "\n",
    "\n",
    "nav = webdriver.Chrome(ChromeDriverManager().install())\n"
   ]
  },
  {
   "cell_type": "code",
   "execution_count": 8,
   "metadata": {},
   "outputs": [
    {
     "output_type": "stream",
     "name": "stdout",
     "text": [
      "4.9144\n",
      "5.863321496\n",
      "280.47\n"
     ]
    }
   ],
   "source": [
    "\n",
    "# pesquisar cotação dolar\n",
    "nav.get(\"https://www.google.com/\")\n",
    "nav.find_element_by_xpath('/html/body/div[1]/div[3]/form/div[1]/div[1]/div[1]/div/div[2]/input').send_keys(\"cotação dólar\")\n",
    "nav.find_element_by_xpath('/html/body/div[1]/div[3]/form/div[1]/div[1]/div[1]/div/div[2]/input').send_keys(Keys.ENTER)\n",
    "cotacao_dolar = nav.find_element_by_xpath('//*[@id=\"knowledge-currency__updatable-data-column\"]/div[1]/div[2]/span[1]').get_attribute('data-value')\n",
    "print(cotacao_dolar)\n",
    "\n",
    "# pesquisar cotação euro\n",
    "nav.get(\"https://www.google.com/\")\n",
    "nav.find_element_by_xpath('/html/body/div[1]/div[3]/form/div[1]/div[1]/div[1]/div/div[2]/input').send_keys(\"cotação euro\")\n",
    "nav.find_element_by_xpath('/html/body/div[1]/div[3]/form/div[1]/div[1]/div[1]/div/div[2]/input').send_keys(Keys.ENTER)\n",
    "cotacao_euro = nav.find_element_by_xpath('//*[@id=\"knowledge-currency__updatable-data-column\"]/div[1]/div[2]/span[1]').get_attribute('data-value')\n",
    "print(cotacao_euro)\n",
    "\n",
    "# pegar cotacao ouro\n",
    "nav.get(\"https://www.melhorcambio.com/\")\n",
    "aba_original = nav.window_handles[0]\n",
    "nav.find_element_by_xpath('//*[@id=\"commodity-hoje\"]/tbody/tr[2]/td[2]/a/img').click()\n",
    "aba_nova = nav.window_handles[1]\n",
    "nav.switch_to.window(aba_nova)\n",
    "cotacao_ouro = nav.find_element_by_id('comercial').get_attribute('value')\n",
    "cotacao_ouro = cotacao_ouro.replace(\",\", \".\")\n",
    "print(cotacao_ouro)\n",
    "\n",
    "nav.quit()"
   ]
  },
  {
   "cell_type": "markdown",
   "metadata": {},
   "source": [
    "### Agora vamos atualiza a nossa base de preços com as novas cotações"
   ]
  },
  {
   "cell_type": "markdown",
   "metadata": {},
   "source": [
    "- Importando a base de dados"
   ]
  },
  {
   "cell_type": "code",
   "execution_count": 9,
   "metadata": {
    "scrolled": true
   },
   "outputs": [
    {
     "output_type": "display_data",
     "data": {
      "text/plain": "         Produtos  Preço Base Original  Moeda  Cotação  Preço Base Reais  \\\n0    Câmera Canon               999.99  Dólar        5           4999.95   \n1   Carro Renault              4500.00   Euro        6          27000.00   \n2   Notebook Dell               899.99  Dólar        5           4499.95   \n3          IPhone               799.00  Dólar        5           3995.00   \n4      Carro Fiat              3000.00   Euro        6          18000.00   \n5  Celular Xiaomi               480.48  Dólar        5           2402.40   \n6        Joia 20g                20.00   Ouro      350           7000.00   \n\n   Margem  Preço Final  \n0    1.40     6999.930  \n1    2.00    54000.000  \n2    1.70     7649.915  \n3    1.70     6791.500  \n4    1.90    34200.000  \n5    2.00     4804.800  \n6    1.15     8050.000  ",
      "text/html": "<div>\n<style scoped>\n    .dataframe tbody tr th:only-of-type {\n        vertical-align: middle;\n    }\n\n    .dataframe tbody tr th {\n        vertical-align: top;\n    }\n\n    .dataframe thead th {\n        text-align: right;\n    }\n</style>\n<table border=\"1\" class=\"dataframe\">\n  <thead>\n    <tr style=\"text-align: right;\">\n      <th></th>\n      <th>Produtos</th>\n      <th>Preço Base Original</th>\n      <th>Moeda</th>\n      <th>Cotação</th>\n      <th>Preço Base Reais</th>\n      <th>Margem</th>\n      <th>Preço Final</th>\n    </tr>\n  </thead>\n  <tbody>\n    <tr>\n      <th>0</th>\n      <td>Câmera Canon</td>\n      <td>999.99</td>\n      <td>Dólar</td>\n      <td>5</td>\n      <td>4999.95</td>\n      <td>1.40</td>\n      <td>6999.930</td>\n    </tr>\n    <tr>\n      <th>1</th>\n      <td>Carro Renault</td>\n      <td>4500.00</td>\n      <td>Euro</td>\n      <td>6</td>\n      <td>27000.00</td>\n      <td>2.00</td>\n      <td>54000.000</td>\n    </tr>\n    <tr>\n      <th>2</th>\n      <td>Notebook Dell</td>\n      <td>899.99</td>\n      <td>Dólar</td>\n      <td>5</td>\n      <td>4499.95</td>\n      <td>1.70</td>\n      <td>7649.915</td>\n    </tr>\n    <tr>\n      <th>3</th>\n      <td>IPhone</td>\n      <td>799.00</td>\n      <td>Dólar</td>\n      <td>5</td>\n      <td>3995.00</td>\n      <td>1.70</td>\n      <td>6791.500</td>\n    </tr>\n    <tr>\n      <th>4</th>\n      <td>Carro Fiat</td>\n      <td>3000.00</td>\n      <td>Euro</td>\n      <td>6</td>\n      <td>18000.00</td>\n      <td>1.90</td>\n      <td>34200.000</td>\n    </tr>\n    <tr>\n      <th>5</th>\n      <td>Celular Xiaomi</td>\n      <td>480.48</td>\n      <td>Dólar</td>\n      <td>5</td>\n      <td>2402.40</td>\n      <td>2.00</td>\n      <td>4804.800</td>\n    </tr>\n    <tr>\n      <th>6</th>\n      <td>Joia 20g</td>\n      <td>20.00</td>\n      <td>Ouro</td>\n      <td>350</td>\n      <td>7000.00</td>\n      <td>1.15</td>\n      <td>8050.000</td>\n    </tr>\n  </tbody>\n</table>\n</div>"
     },
     "metadata": {}
    }
   ],
   "source": [
    "import pandas as pd\n",
    "\n",
    "produtos_df = pd.read_excel(\"Produtos.xlsx\")\n",
    "display(produtos_df)"
   ]
  },
  {
   "cell_type": "markdown",
   "metadata": {},
   "source": [
    "- Atualizando os preços e o cálculo do Preço Final"
   ]
  },
  {
   "cell_type": "code",
   "execution_count": 10,
   "metadata": {},
   "outputs": [
    {
     "output_type": "display_data",
     "data": {
      "text/plain": "         Produtos  Preço Base Original  Moeda     Cotação  Preço Base Reais  \\\n0    Câmera Canon               999.99  Dólar    4.914400       4914.350856   \n1   Carro Renault              4500.00   Euro    5.863321      26384.946732   \n2   Notebook Dell               899.99  Dólar    4.914400       4422.910856   \n3          IPhone               799.00  Dólar    4.914400       3926.605600   \n4      Carro Fiat              3000.00   Euro    5.863321      17589.964488   \n5  Celular Xiaomi               480.48  Dólar    4.914400       2361.270912   \n6        Joia 20g                20.00   Ouro  280.470000       5609.400000   \n\n   Margem   Preço Final  \n0    1.40   6880.091198  \n1    2.00  52769.893464  \n2    1.70   7518.948455  \n3    1.70   6675.229520  \n4    1.90  33420.932527  \n5    2.00   4722.541824  \n6    1.15   6450.810000  ",
      "text/html": "<div>\n<style scoped>\n    .dataframe tbody tr th:only-of-type {\n        vertical-align: middle;\n    }\n\n    .dataframe tbody tr th {\n        vertical-align: top;\n    }\n\n    .dataframe thead th {\n        text-align: right;\n    }\n</style>\n<table border=\"1\" class=\"dataframe\">\n  <thead>\n    <tr style=\"text-align: right;\">\n      <th></th>\n      <th>Produtos</th>\n      <th>Preço Base Original</th>\n      <th>Moeda</th>\n      <th>Cotação</th>\n      <th>Preço Base Reais</th>\n      <th>Margem</th>\n      <th>Preço Final</th>\n    </tr>\n  </thead>\n  <tbody>\n    <tr>\n      <th>0</th>\n      <td>Câmera Canon</td>\n      <td>999.99</td>\n      <td>Dólar</td>\n      <td>4.914400</td>\n      <td>4914.350856</td>\n      <td>1.40</td>\n      <td>6880.091198</td>\n    </tr>\n    <tr>\n      <th>1</th>\n      <td>Carro Renault</td>\n      <td>4500.00</td>\n      <td>Euro</td>\n      <td>5.863321</td>\n      <td>26384.946732</td>\n      <td>2.00</td>\n      <td>52769.893464</td>\n    </tr>\n    <tr>\n      <th>2</th>\n      <td>Notebook Dell</td>\n      <td>899.99</td>\n      <td>Dólar</td>\n      <td>4.914400</td>\n      <td>4422.910856</td>\n      <td>1.70</td>\n      <td>7518.948455</td>\n    </tr>\n    <tr>\n      <th>3</th>\n      <td>IPhone</td>\n      <td>799.00</td>\n      <td>Dólar</td>\n      <td>4.914400</td>\n      <td>3926.605600</td>\n      <td>1.70</td>\n      <td>6675.229520</td>\n    </tr>\n    <tr>\n      <th>4</th>\n      <td>Carro Fiat</td>\n      <td>3000.00</td>\n      <td>Euro</td>\n      <td>5.863321</td>\n      <td>17589.964488</td>\n      <td>1.90</td>\n      <td>33420.932527</td>\n    </tr>\n    <tr>\n      <th>5</th>\n      <td>Celular Xiaomi</td>\n      <td>480.48</td>\n      <td>Dólar</td>\n      <td>4.914400</td>\n      <td>2361.270912</td>\n      <td>2.00</td>\n      <td>4722.541824</td>\n    </tr>\n    <tr>\n      <th>6</th>\n      <td>Joia 20g</td>\n      <td>20.00</td>\n      <td>Ouro</td>\n      <td>280.470000</td>\n      <td>5609.400000</td>\n      <td>1.15</td>\n      <td>6450.810000</td>\n    </tr>\n  </tbody>\n</table>\n</div>"
     },
     "metadata": {}
    }
   ],
   "source": [
    "produtos_df.loc[produtos_df['Moeda']==\"Dólar\", \"Cotação\"] = float(cotacao_dolar)\n",
    "produtos_df.loc[produtos_df['Moeda']==\"Euro\", \"Cotação\"] = float(cotacao_euro)\n",
    "produtos_df.loc[produtos_df['Moeda']==\"Ouro\", \"Cotação\"] = float(cotacao_ouro)\n",
    "\n",
    "produtos_df['Preço Base Reais'] = produtos_df['Cotação'] * produtos_df['Preço Base Original']\n",
    "produtos_df['Preço Final'] = produtos_df['Margem'] * produtos_df['Preço Base Reais']\n",
    "# produtos_df[\"Preço Final\"] = produtos_df[\"Preço Final\"].map(\"{:.2f}\".format)\n",
    "display(produtos_df)"
   ]
  },
  {
   "cell_type": "markdown",
   "metadata": {},
   "source": [
    "### Agora vamos exportar a nova base de preços atualizada"
   ]
  },
  {
   "cell_type": "code",
   "execution_count": 13,
   "metadata": {},
   "outputs": [],
   "source": [
    "produtos_df.to_excel(\"Produtos Atualizado.xlsx\", index=False)"
   ]
  },
  {
   "cell_type": "code",
   "execution_count": null,
   "metadata": {},
   "outputs": [],
   "source": []
  }
 ],
 "metadata": {
  "kernelspec": {
   "name": "python3",
   "display_name": "Python 3.9.5 64-bit"
  },
  "language_info": {
   "codemirror_mode": {
    "name": "ipython",
    "version": 3
   },
   "file_extension": ".py",
   "mimetype": "text/x-python",
   "name": "python",
   "nbconvert_exporter": "python",
   "pygments_lexer": "ipython3",
   "version": "3.9.5"
  },
  "interpreter": {
   "hash": "7c239c9e803aa87c3815454c42da92f1af28c0cbd1b711d488a058e58bc0122e"
  }
 },
 "nbformat": 4,
 "nbformat_minor": 4
}