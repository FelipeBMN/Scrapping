{
 "cells": [
  {
   "cell_type": "markdown",
   "source": [
    "# Automação Web e Busca de Informações com Python\n",
    "\n",
    "#### Desafio: \n",
    "\n",
    "Trabalhamos em uma importadora e o preço dos nossos produtos é vinculado a cotação de:\n",
    "- Dólar\n",
    "- Euro\n",
    "- Ouro\n",
    "\n",
    "Precisamos pegar na internet, de forma automática, a cotação desses 3 itens e saber quanto devemos cobrar pelos nossos produtos, considerando uma margem de contribuição que temos na nossa base de dados.\n",
    "\n",
    "Base de Dados: https://drive.google.com/drive/folders/1o2lpxoi9heyQV1hIlsHXWSfDkBPtze-V?usp=sharing\n",
    "\n",
    "Para isso, vamos criar uma automação web:\n",
    "\n",
    "- Usaremos o selenium\n",
    "- Importante: baixar o webdriver"
   ],
   "metadata": {}
  },
  {
   "cell_type": "code",
   "execution_count": 15,
   "source": [
    "\r\n",
    "from selenium import webdriver \r\n",
    "from webdriver_manager.chrome import ChromeDriverManager\r\n",
    "from selenium.webdriver.common.keys import Keys\r\n",
    "from selenium.webdriver.chrome.options import Options\r\n",
    "\r\n",
    "# Iniciando Options\r\n",
    "chrome_options = Options()\r\n",
    "chrome_options.add_argument(\"--headless\")\r\n",
    "options = chrome_options\r\n",
    "\r\n",
    "# Iniciando o chrome\r\n",
    "nav = webdriver.Chrome(ChromeDriverManager().install(),options=options)\r\n"
   ],
   "outputs": [
    {
     "output_type": "stream",
     "name": "stderr",
     "text": [
      "\n",
      "\n",
      "====== WebDriver manager ======\n",
      "Current google-chrome version is 92.0.4515\n",
      "Get LATEST driver version for 92.0.4515\n",
      "Driver [C:\\Users\\BRUNO\\.wdm\\drivers\\chromedriver\\win32\\92.0.4515.107\\chromedriver.exe] found in cache\n"
     ]
    }
   ],
   "metadata": {}
  },
  {
   "cell_type": "markdown",
   "source": [],
   "metadata": {}
  },
  {
   "cell_type": "code",
   "execution_count": 16,
   "source": [
    "\r\n",
    "# pesquisar cotação dolar\r\n",
    "nav.get(\"https://www.google.com/\")\r\n",
    "nav.find_element_by_xpath('/html/body/div[1]/div[3]/form/div[1]/div[1]/div[1]/div/div[2]/input').send_keys(\"cotação dólar\")\r\n",
    "nav.find_element_by_xpath('/html/body/div[1]/div[3]/form/div[1]/div[1]/div[1]/div/div[2]/input').send_keys(Keys.ENTER)\r\n",
    "cotacao_dolar = nav.find_element_by_xpath('//*[@id=\"knowledge-currency__updatable-data-column\"]/div[1]/div[2]/span[1]').get_attribute('data-value')\r\n",
    "print(cotacao_dolar)\r\n",
    "\r\n",
    "# pesquisar cotação euro\r\n",
    "nav.get(\"https://www.google.com/\")\r\n",
    "nav.find_element_by_xpath('/html/body/div[1]/div[3]/form/div[1]/div[1]/div[1]/div/div[2]/input').send_keys(\"cotação euro\")\r\n",
    "nav.find_element_by_xpath('/html/body/div[1]/div[3]/form/div[1]/div[1]/div[1]/div/div[2]/input').send_keys(Keys.ENTER)\r\n",
    "cotacao_euro = nav.find_element_by_xpath('//*[@id=\"knowledge-currency__updatable-data-column\"]/div[1]/div[2]/span[1]').get_attribute('data-value')\r\n",
    "print(cotacao_euro)\r\n",
    "\r\n",
    "# pegar cotacao ouro\r\n",
    "nav.get(\"https://www.melhorcambio.com/\")\r\n",
    "aba_original = nav.window_handles[0]\r\n",
    "nav.find_element_by_xpath('//*[@id=\"commodity-hoje\"]/tbody/tr[2]/td[2]/a/img').click()\r\n",
    "aba_nova = nav.window_handles[1]\r\n",
    "nav.switch_to.window(aba_nova)\r\n",
    "cotacao_ouro = nav.find_element_by_id('comercial').get_attribute('value')\r\n",
    "cotacao_ouro = cotacao_ouro.replace(\",\", \".\")\r\n",
    "print(cotacao_ouro)\r\n",
    "\r\n",
    "nav.quit()"
   ],
   "outputs": [
    {
     "output_type": "stream",
     "name": "stdout",
     "text": [
      "5.249\n",
      "6.191925111000001\n",
      "300.62\n"
     ]
    }
   ],
   "metadata": {}
  },
  {
   "cell_type": "markdown",
   "source": [
    "### Agora vamos atualiza a nossa base de preços com as novas cotações"
   ],
   "metadata": {}
  },
  {
   "cell_type": "markdown",
   "source": [
    "- Importando a base de dados"
   ],
   "metadata": {}
  },
  {
   "cell_type": "code",
   "execution_count": 17,
   "source": [
    "import pandas as pd\r\n",
    "\r\n",
    "produtos_df = pd.read_excel(\"Produtos.xlsx\")\r\n",
    "display(produtos_df)"
   ],
   "outputs": [
    {
     "output_type": "error",
     "ename": "ModuleNotFoundError",
     "evalue": "No module named 'pandas'",
     "traceback": [
      "\u001b[1;31m---------------------------------------------------------------------------\u001b[0m",
      "\u001b[1;31mModuleNotFoundError\u001b[0m                       Traceback (most recent call last)",
      "\u001b[1;32m~\\AppData\\Local\\Temp/ipykernel_1644/1795983051.py\u001b[0m in \u001b[0;36m<module>\u001b[1;34m\u001b[0m\n\u001b[1;32m----> 1\u001b[1;33m \u001b[1;32mimport\u001b[0m \u001b[0mpandas\u001b[0m \u001b[1;32mas\u001b[0m \u001b[0mpd\u001b[0m\u001b[1;33m\u001b[0m\u001b[1;33m\u001b[0m\u001b[0m\n\u001b[0m\u001b[0;32m      2\u001b[0m \u001b[1;33m\u001b[0m\u001b[0m\n\u001b[0;32m      3\u001b[0m \u001b[0mprodutos_df\u001b[0m \u001b[1;33m=\u001b[0m \u001b[0mpd\u001b[0m\u001b[1;33m.\u001b[0m\u001b[0mread_excel\u001b[0m\u001b[1;33m(\u001b[0m\u001b[1;34m\"Produtos.xlsx\"\u001b[0m\u001b[1;33m)\u001b[0m\u001b[1;33m\u001b[0m\u001b[1;33m\u001b[0m\u001b[0m\n\u001b[0;32m      4\u001b[0m \u001b[0mdisplay\u001b[0m\u001b[1;33m(\u001b[0m\u001b[0mprodutos_df\u001b[0m\u001b[1;33m)\u001b[0m\u001b[1;33m\u001b[0m\u001b[1;33m\u001b[0m\u001b[0m\n",
      "\u001b[1;31mModuleNotFoundError\u001b[0m: No module named 'pandas'"
     ]
    }
   ],
   "metadata": {
    "scrolled": true
   }
  },
  {
   "cell_type": "markdown",
   "source": [
    "- Atualizando os preços e o cálculo do Preço Final"
   ],
   "metadata": {}
  },
  {
   "cell_type": "code",
   "execution_count": null,
   "source": [
    "produtos_df.loc[produtos_df['Moeda']==\"Dólar\", \"Cotação\"] = float(cotacao_dolar)\r\n",
    "produtos_df.loc[produtos_df['Moeda']==\"Euro\", \"Cotação\"] = float(cotacao_euro)\r\n",
    "produtos_df.loc[produtos_df['Moeda']==\"Ouro\", \"Cotação\"] = float(cotacao_ouro)\r\n",
    "\r\n",
    "produtos_df['Preço Base Reais'] = produtos_df['Cotação'] * produtos_df['Preço Base Original']\r\n",
    "produtos_df['Preço Final'] = produtos_df['Margem'] * produtos_df['Preço Base Reais']\r\n",
    "# produtos_df[\"Preço Final\"] = produtos_df[\"Preço Final\"].map(\"{:.2f}\".format)\r\n",
    "display(produtos_df)"
   ],
   "outputs": [
    {
     "output_type": "display_data",
     "data": {
      "text/plain": [
       "         Produtos  Preço Base Original  Moeda     Cotação  Preço Base Reais  \\\n",
       "0    Câmera Canon               999.99  Dólar    4.914400       4914.350856   \n",
       "1   Carro Renault              4500.00   Euro    5.863321      26384.946732   \n",
       "2   Notebook Dell               899.99  Dólar    4.914400       4422.910856   \n",
       "3          IPhone               799.00  Dólar    4.914400       3926.605600   \n",
       "4      Carro Fiat              3000.00   Euro    5.863321      17589.964488   \n",
       "5  Celular Xiaomi               480.48  Dólar    4.914400       2361.270912   \n",
       "6        Joia 20g                20.00   Ouro  280.470000       5609.400000   \n",
       "\n",
       "   Margem   Preço Final  \n",
       "0    1.40   6880.091198  \n",
       "1    2.00  52769.893464  \n",
       "2    1.70   7518.948455  \n",
       "3    1.70   6675.229520  \n",
       "4    1.90  33420.932527  \n",
       "5    2.00   4722.541824  \n",
       "6    1.15   6450.810000  "
      ],
      "text/html": [
       "<div>\n",
       "<style scoped>\n",
       "    .dataframe tbody tr th:only-of-type {\n",
       "        vertical-align: middle;\n",
       "    }\n",
       "\n",
       "    .dataframe tbody tr th {\n",
       "        vertical-align: top;\n",
       "    }\n",
       "\n",
       "    .dataframe thead th {\n",
       "        text-align: right;\n",
       "    }\n",
       "</style>\n",
       "<table border=\"1\" class=\"dataframe\">\n",
       "  <thead>\n",
       "    <tr style=\"text-align: right;\">\n",
       "      <th></th>\n",
       "      <th>Produtos</th>\n",
       "      <th>Preço Base Original</th>\n",
       "      <th>Moeda</th>\n",
       "      <th>Cotação</th>\n",
       "      <th>Preço Base Reais</th>\n",
       "      <th>Margem</th>\n",
       "      <th>Preço Final</th>\n",
       "    </tr>\n",
       "  </thead>\n",
       "  <tbody>\n",
       "    <tr>\n",
       "      <th>0</th>\n",
       "      <td>Câmera Canon</td>\n",
       "      <td>999.99</td>\n",
       "      <td>Dólar</td>\n",
       "      <td>4.914400</td>\n",
       "      <td>4914.350856</td>\n",
       "      <td>1.40</td>\n",
       "      <td>6880.091198</td>\n",
       "    </tr>\n",
       "    <tr>\n",
       "      <th>1</th>\n",
       "      <td>Carro Renault</td>\n",
       "      <td>4500.00</td>\n",
       "      <td>Euro</td>\n",
       "      <td>5.863321</td>\n",
       "      <td>26384.946732</td>\n",
       "      <td>2.00</td>\n",
       "      <td>52769.893464</td>\n",
       "    </tr>\n",
       "    <tr>\n",
       "      <th>2</th>\n",
       "      <td>Notebook Dell</td>\n",
       "      <td>899.99</td>\n",
       "      <td>Dólar</td>\n",
       "      <td>4.914400</td>\n",
       "      <td>4422.910856</td>\n",
       "      <td>1.70</td>\n",
       "      <td>7518.948455</td>\n",
       "    </tr>\n",
       "    <tr>\n",
       "      <th>3</th>\n",
       "      <td>IPhone</td>\n",
       "      <td>799.00</td>\n",
       "      <td>Dólar</td>\n",
       "      <td>4.914400</td>\n",
       "      <td>3926.605600</td>\n",
       "      <td>1.70</td>\n",
       "      <td>6675.229520</td>\n",
       "    </tr>\n",
       "    <tr>\n",
       "      <th>4</th>\n",
       "      <td>Carro Fiat</td>\n",
       "      <td>3000.00</td>\n",
       "      <td>Euro</td>\n",
       "      <td>5.863321</td>\n",
       "      <td>17589.964488</td>\n",
       "      <td>1.90</td>\n",
       "      <td>33420.932527</td>\n",
       "    </tr>\n",
       "    <tr>\n",
       "      <th>5</th>\n",
       "      <td>Celular Xiaomi</td>\n",
       "      <td>480.48</td>\n",
       "      <td>Dólar</td>\n",
       "      <td>4.914400</td>\n",
       "      <td>2361.270912</td>\n",
       "      <td>2.00</td>\n",
       "      <td>4722.541824</td>\n",
       "    </tr>\n",
       "    <tr>\n",
       "      <th>6</th>\n",
       "      <td>Joia 20g</td>\n",
       "      <td>20.00</td>\n",
       "      <td>Ouro</td>\n",
       "      <td>280.470000</td>\n",
       "      <td>5609.400000</td>\n",
       "      <td>1.15</td>\n",
       "      <td>6450.810000</td>\n",
       "    </tr>\n",
       "  </tbody>\n",
       "</table>\n",
       "</div>"
      ]
     },
     "metadata": {}
    }
   ],
   "metadata": {}
  },
  {
   "cell_type": "markdown",
   "source": [
    "### Agora vamos exportar a nova base de preços atualizada"
   ],
   "metadata": {}
  },
  {
   "cell_type": "code",
   "execution_count": null,
   "source": [
    "produtos_df.to_excel(\"Produtos Atualizado.xlsx\", index=False)"
   ],
   "outputs": [],
   "metadata": {}
  },
  {
   "cell_type": "code",
   "execution_count": 18,
   "source": [
    "nav.quit()"
   ],
   "outputs": [],
   "metadata": {}
  }
 ],
 "metadata": {
  "kernelspec": {
   "name": "python3",
   "display_name": "Python 3.9.6 64-bit ('py_Scraping': venv)"
  },
  "language_info": {
   "codemirror_mode": {
    "name": "ipython",
    "version": 3
   },
   "file_extension": ".py",
   "mimetype": "text/x-python",
   "name": "python",
   "nbconvert_exporter": "python",
   "pygments_lexer": "ipython3",
   "version": "3.9.6"
  },
  "interpreter": {
   "hash": "fd01cb05bf4816077ff49262a5d4d3d7f89a1e66fae918286fa471c4c6ef6e63"
  }
 },
 "nbformat": 4,
 "nbformat_minor": 4
}